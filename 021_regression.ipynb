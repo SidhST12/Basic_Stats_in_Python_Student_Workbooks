{
 "cells": [
  {
   "cell_type": "code",
   "execution_count": 1,
   "metadata": {},
   "outputs": [],
   "source": [
    "import thinkplot\n",
    "import thinkstats2\n",
    "import pandas as pd\n",
    "import numpy as np\n",
    "from sklearn.metrics import mean_squared_error\n",
    "import scipy.stats as ss\n",
    "import math\n",
    "import random\n",
    "\n",
    "##Seaborn for fancy plots. \n",
    "import matplotlib.pyplot as plt\n",
    "import seaborn as sns\n",
    "plt.rcParams[\"figure.figsize\"] = (6,6)"
   ]
  },
  {
   "cell_type": "markdown",
   "metadata": {},
   "source": [
    "<h1>More Regression</h1>\n",
    "\n",
    "We can now generate linear regression models that can predict a Y value when we supply an X value - cool!\n",
    "\n",
    "What about accuracy. How much can we trust these models to make accurate predictions?\n",
    "\n",
    "For regression we have two primary metrics of accuracy that we look at first - <b>RMSE and R2 (R squared)</b>. We can look at each individually, they are both pretty simple and easy to calculate. \n",
    "\n",
    "We'll load some data where there is more error than the NBA/NFL example from last time. "
   ]
  },
  {
   "cell_type": "code",
   "execution_count": 2,
   "metadata": {},
   "outputs": [
    {
     "data": {
      "text/html": [
       "<div>\n",
       "<style scoped>\n",
       "    .dataframe tbody tr th:only-of-type {\n",
       "        vertical-align: middle;\n",
       "    }\n",
       "\n",
       "    .dataframe tbody tr th {\n",
       "        vertical-align: top;\n",
       "    }\n",
       "\n",
       "    .dataframe thead th {\n",
       "        text-align: right;\n",
       "    }\n",
       "</style>\n",
       "<table border=\"1\" class=\"dataframe\">\n",
       "  <thead>\n",
       "    <tr style=\"text-align: right;\">\n",
       "      <th></th>\n",
       "      <th>﻿Store</th>\n",
       "      <th>FuelPrice</th>\n",
       "      <th>StoreSize</th>\n",
       "      <th>WeekAvgTemp</th>\n",
       "      <th>Unemployment</th>\n",
       "      <th>Sales</th>\n",
       "      <th>SalesPerSqFt</th>\n",
       "    </tr>\n",
       "  </thead>\n",
       "  <tbody>\n",
       "    <tr>\n",
       "      <th>0</th>\n",
       "      <td>1.0</td>\n",
       "      <td>3.10</td>\n",
       "      <td>151315.0</td>\n",
       "      <td>47.0</td>\n",
       "      <td>7.43</td>\n",
       "      <td>22516.0</td>\n",
       "      <td>0.15</td>\n",
       "    </tr>\n",
       "    <tr>\n",
       "      <th>1</th>\n",
       "      <td>1.0</td>\n",
       "      <td>3.14</td>\n",
       "      <td>151315.0</td>\n",
       "      <td>42.0</td>\n",
       "      <td>7.43</td>\n",
       "      <td>22805.0</td>\n",
       "      <td>0.15</td>\n",
       "    </tr>\n",
       "    <tr>\n",
       "      <th>2</th>\n",
       "      <td>1.0</td>\n",
       "      <td>3.18</td>\n",
       "      <td>151315.0</td>\n",
       "      <td>51.0</td>\n",
       "      <td>7.43</td>\n",
       "      <td>22082.0</td>\n",
       "      <td>0.15</td>\n",
       "    </tr>\n",
       "    <tr>\n",
       "      <th>3</th>\n",
       "      <td>1.0</td>\n",
       "      <td>3.24</td>\n",
       "      <td>151315.0</td>\n",
       "      <td>55.0</td>\n",
       "      <td>7.43</td>\n",
       "      <td>19580.0</td>\n",
       "      <td>0.13</td>\n",
       "    </tr>\n",
       "    <tr>\n",
       "      <th>4</th>\n",
       "      <td>1.0</td>\n",
       "      <td>3.31</td>\n",
       "      <td>151315.0</td>\n",
       "      <td>54.0</td>\n",
       "      <td>7.43</td>\n",
       "      <td>21299.0</td>\n",
       "      <td>0.14</td>\n",
       "    </tr>\n",
       "  </tbody>\n",
       "</table>\n",
       "</div>"
      ],
      "text/plain": [
       "   ﻿Store  FuelPrice  StoreSize  WeekAvgTemp  Unemployment    Sales  \\\n",
       "0     1.0       3.10   151315.0         47.0          7.43  22516.0   \n",
       "1     1.0       3.14   151315.0         42.0          7.43  22805.0   \n",
       "2     1.0       3.18   151315.0         51.0          7.43  22082.0   \n",
       "3     1.0       3.24   151315.0         55.0          7.43  19580.0   \n",
       "4     1.0       3.31   151315.0         54.0          7.43  21299.0   \n",
       "\n",
       "   SalesPerSqFt  \n",
       "0          0.15  \n",
       "1          0.15  \n",
       "2          0.15  \n",
       "3          0.13  \n",
       "4          0.14  "
      ]
     },
     "execution_count": 2,
     "metadata": {},
     "output_type": "execute_result"
    }
   ],
   "source": [
    "#Load Data\n",
    "df = pd.read_csv(\"data/WalMartSales.csv\")\n",
    "df.head()"
   ]
  },
  {
   "cell_type": "markdown",
   "metadata": {},
   "source": [
    "We can look at how accurately can we predict store sales at a WalMart, if we know the size of the store. "
   ]
  },
  {
   "cell_type": "code",
   "execution_count": 3,
   "metadata": {},
   "outputs": [
    {
     "data": {
      "text/plain": [
       "<seaborn.axisgrid.PairGrid at 0x1befe873340>"
      ]
     },
     "execution_count": 3,
     "metadata": {},
     "output_type": "execute_result"
    },
    {
     "data": {
      "image/png": "[encoded data removed]",
      "text/plain": [
       "<Figure size 360x360 with 6 Axes>"
      ]
     },
     "metadata": {
      "needs_background": "light"
     },
     "output_type": "display_data"
    }
   ],
   "source": [
    "#We can take a preview\n",
    "x1 = \"StoreSize\"\n",
    "y1 = \"Sales\"\n",
    "d = df[[\"StoreSize\", \"Sales\"]]\n",
    "sns.pairplot(d, kind=\"reg\")"
   ]
  },
  {
   "cell_type": "markdown",
   "metadata": {},
   "source": [
    "It appears that there is a relationship, though not a super strong one. Regression time..."
   ]
  },
  {
   "cell_type": "code",
   "execution_count": 4,
   "metadata": {},
   "outputs": [
    {
     "name": "stdout",
     "output_type": "stream",
     "text": [
      "Y intercept: 3894.199523404419\n",
      "Slope: 0.0886042837694039\n"
     ]
    }
   ],
   "source": [
    "#Do regression\n",
    "inter, slope = thinkstats2.LeastSquares(d[x1],d[y1])\n",
    "res = thinkstats2.Residuals(d[x1], d[y1], inter, slope)\n",
    "regLine = thinkstats2.FitLine(d[x1], inter, slope)\n",
    "print(\"Y intercept:\", inter)\n",
    "print(\"Slope:\", slope)"
   ]
  },
  {
   "cell_type": "code",
   "execution_count": 5,
   "metadata": {},
   "outputs": [
    {
     "data": {
      "text/plain": [
       "<AxesSubplot:xlabel='StoreSize', ylabel='Sales'>"
      ]
     },
     "execution_count": 5,
     "metadata": {},
     "output_type": "execute_result"
    },
    {
     "data": {
      "image/png": "[encoded data removed]",
      "text/plain": [
       "<Figure size 432x432 with 1 Axes>"
      ]
     },
     "metadata": {
      "needs_background": "light"
     },
     "output_type": "display_data"
    }
   ],
   "source": [
    "#Plot with regression line\n",
    "sns.scatterplot(x=d[x1], y=d[y1])\n",
    "sns.lineplot(x=regLine[0], y=regLine[1])"
   ]
  },
  {
   "cell_type": "markdown",
   "metadata": {},
   "source": [
    "As a side observation, it looks like WalMart makes a lot of stores that are the same size. Someone might think about transforming the store size into a categorical value - for example, if each size of store is kind of a different \"type\", it might make sense. This type of decision would probably require both some knowledge of how the stores are setup and some trials to observe the results (this would presumably be when we were making a model with many inputs). "
   ]
  },
  {
   "cell_type": "code",
   "execution_count": 6,
   "metadata": {},
   "outputs": [
    {
     "data": {
      "text/plain": [
       "<AxesSubplot:xlabel='StoreSize', ylabel='Sales'>"
      ]
     },
     "execution_count": 6,
     "metadata": {},
     "output_type": "execute_result"
    },
    {
     "data": {
      "image/png": "[encoded data removed]",
      "text/plain": [
       "<Figure size 432x432 with 1 Axes>"
      ]
     },
     "metadata": {
      "needs_background": "light"
     },
     "output_type": "display_data"
    }
   ],
   "source": [
    "#Plot Residuals\n",
    "sns.residplot(x=d[x1], y=d[y1])"
   ]
  },
  {
   "cell_type": "markdown",
   "metadata": {},
   "source": [
    "### Results and Error\n",
    "\n",
    "Ok. We have a regression, it doesn't really look like it is the best one. \n",
    "\n",
    "We need to quantify the accuracy. First - RMSE. \n",
    "\n",
    "The RMSE is the same concept of every other time we've looked at it - take the residuals, square them, sum those up, take the square root. We can build a pretty simple calculator to find RMSE, or we can use one of the library functions. "
   ]
  },
  {
   "cell_type": "code",
   "execution_count": 7,
   "metadata": {},
   "outputs": [],
   "source": [
    "#Calculate RMSE from residuals\n",
    "def rmseFromResiduals(residuals):\n",
    "    SSE = 0\n",
    "    for i in range(len(residuals)):\n",
    "        SSE += (residuals[i]**2)\n",
    "    MSE = SSE/len(residuals)\n",
    "    return math.sqrt(MSE)"
   ]
  },
  {
   "cell_type": "code",
   "execution_count": 8,
   "metadata": {},
   "outputs": [
    {
     "data": {
      "text/plain": [
       "4681.2696710037135"
      ]
     },
     "execution_count": 8,
     "metadata": {},
     "output_type": "execute_result"
    }
   ],
   "source": [
    "rmseFromResiduals(res)"
   ]
  },
  {
   "cell_type": "markdown",
   "metadata": {},
   "source": [
    "### RMSE Results from Models\n",
    "\n",
    "What if we are using one of the library functions? We'll use statsmodels here. The RMSE stuff is the same for sklearn. We make the predictions from the model, then compare those predictions to the real y values via one of the error calculating functions. "
   ]
  },
  {
   "cell_type": "code",
   "execution_count": 9,
   "metadata": {},
   "outputs": [
    {
     "name": "stdout",
     "output_type": "stream",
     "text": [
      "                            OLS Regression Results                            \n",
      "==============================================================================\n",
      "Dep. Variable:                  Sales   R-squared:                       0.588\n",
      "Model:                            OLS   Adj. R-squared:                  0.588\n",
      "Method:                 Least Squares   F-statistic:                     9180.\n",
      "Date:                Sat, 12 Nov 2022   Prob (F-statistic):               0.00\n",
      "Time:                        16:15:07   Log-Likelihood:                -63515.\n",
      "No. Observations:                6435   AIC:                         1.270e+05\n",
      "Df Residuals:                    6433   BIC:                         1.270e+05\n",
      "Df Model:                           1                                         \n",
      "Covariance Type:            nonrobust                                         \n",
      "==============================================================================\n",
      "                 coef    std err          t      P>|t|      [0.025      0.975]\n",
      "------------------------------------------------------------------------------\n",
      "const       3894.1995    133.881     29.087      0.000    3631.748    4156.651\n",
      "StoreSize      0.0886      0.001     95.810      0.000       0.087       0.090\n",
      "==============================================================================\n",
      "Omnibus:                     1470.140   Durbin-Watson:                   0.291\n",
      "Prob(Omnibus):                  0.000   Jarque-Bera (JB):             4313.203\n",
      "Skew:                           1.185   Prob(JB):                         0.00\n",
      "Kurtosis:                       6.235   Cond. No.                     3.32e+05\n",
      "==============================================================================\n",
      "\n",
      "Notes:\n",
      "[1] Standard Errors assume that the covariance matrix of the errors is correctly specified.\n",
      "[2] The condition number is large, 3.32e+05. This might indicate that there are\n",
      "strong multicollinearity or other numerical problems.\n"
     ]
    }
   ],
   "source": [
    "#Fit the model. \n",
    "import statsmodels.api as sm\n",
    "X2 = sm.add_constant(d[x1])\n",
    "est = sm.OLS(d[y1], X2)\n",
    "est2 = est.fit()\n",
    "print(est2.summary())"
   ]
  },
  {
   "cell_type": "markdown",
   "metadata": {},
   "source": [
    "Now to generate an RMSE, we need to get the actual predictions. "
   ]
  },
  {
   "cell_type": "code",
   "execution_count": 10,
   "metadata": {},
   "outputs": [],
   "source": [
    "#Fit the model which we have already done\n",
    "#Now generate predictions for our data\n",
    "ypred = est2.predict(X2)"
   ]
  },
  {
   "cell_type": "markdown",
   "metadata": {},
   "source": [
    "At this point, we have the predictions, we also have the real values, we can use any RMSE caclulator to get the answer. "
   ]
  },
  {
   "cell_type": "code",
   "execution_count": 11,
   "metadata": {},
   "outputs": [
    {
     "data": {
      "text/plain": [
       "4681.269671003718"
      ]
     },
     "execution_count": 11,
     "metadata": {},
     "output_type": "execute_result"
    }
   ],
   "source": [
    "#Calculate the RMSE, here using the statsmodel function. \n",
    "from statsmodels.tools.eval_measures import rmse\n",
    "rmse(d[y1], ypred)"
   ]
  },
  {
   "cell_type": "code",
   "execution_count": 12,
   "metadata": {},
   "outputs": [
    {
     "data": {
      "text/plain": [
       "4681.269671003718"
      ]
     },
     "execution_count": 12,
     "metadata": {},
     "output_type": "execute_result"
    }
   ],
   "source": [
    "#Sklearn like we did way back before. \n",
    "mean_squared_error(d[y1], ypred, squared=False)"
   ]
  },
  {
   "cell_type": "code",
   "execution_count": 13,
   "metadata": {},
   "outputs": [],
   "source": [
    "#Or define a function to use what we made.\n",
    "def rmseFromPredictions(real, predicted):\n",
    "    return rmseFromResiduals(real-predicted)"
   ]
  },
  {
   "cell_type": "code",
   "execution_count": 14,
   "metadata": {},
   "outputs": [
    {
     "data": {
      "text/plain": [
       "4681.2696710037135"
      ]
     },
     "execution_count": 14,
     "metadata": {},
     "output_type": "execute_result"
    }
   ],
   "source": [
    "rmseFromPredictions(d[y1], ypred)"
   ]
  },
  {
   "cell_type": "markdown",
   "metadata": {},
   "source": [
    "#### Results\n",
    "\n",
    "RMSE is a major metric for the accuracy of our model, it tells us how close our predictions are. "
   ]
  },
  {
   "cell_type": "markdown",
   "metadata": {},
   "source": [
    "## Exercise\n",
    "\n",
    "Now, you try one! Load some different data and get the RMSE. Try to do it two ways, one with a library function, and one with the RMSE calculation we made. \n",
    "\n",
    "Use the Knee value as the X and Bodyfat as the Y. Build a model to predict bodyfat from knee size. Calculate the RMSE for that model."
   ]
  },
  {
   "cell_type": "code",
   "execution_count": 15,
   "metadata": {},
   "outputs": [
    {
     "data": {
      "text/html": [
       "<div>\n",
       "<style scoped>\n",
       "    .dataframe tbody tr th:only-of-type {\n",
       "        vertical-align: middle;\n",
       "    }\n",
       "\n",
       "    .dataframe tbody tr th {\n",
       "        vertical-align: top;\n",
       "    }\n",
       "\n",
       "    .dataframe thead th {\n",
       "        text-align: right;\n",
       "    }\n",
       "</style>\n",
       "<table border=\"1\" class=\"dataframe\">\n",
       "  <thead>\n",
       "    <tr style=\"text-align: right;\">\n",
       "      <th></th>\n",
       "      <th>Density</th>\n",
       "      <th>BodyFat</th>\n",
       "      <th>Age</th>\n",
       "      <th>Weight</th>\n",
       "      <th>Height</th>\n",
       "      <th>Neck</th>\n",
       "      <th>Chest</th>\n",
       "      <th>Abdomen</th>\n",
       "      <th>Hip</th>\n",
       "      <th>Thigh</th>\n",
       "      <th>Knee</th>\n",
       "      <th>Ankle</th>\n",
       "      <th>Biceps</th>\n",
       "      <th>Forearm</th>\n",
       "      <th>Wrist</th>\n",
       "    </tr>\n",
       "  </thead>\n",
       "  <tbody>\n",
       "    <tr>\n",
       "      <th>0</th>\n",
       "      <td>1.0708</td>\n",
       "      <td>12.3</td>\n",
       "      <td>23</td>\n",
       "      <td>154.25</td>\n",
       "      <td>67.75</td>\n",
       "      <td>36.2</td>\n",
       "      <td>93.1</td>\n",
       "      <td>85.2</td>\n",
       "      <td>94.5</td>\n",
       "      <td>59.0</td>\n",
       "      <td>37.3</td>\n",
       "      <td>21.9</td>\n",
       "      <td>32.0</td>\n",
       "      <td>27.4</td>\n",
       "      <td>17.1</td>\n",
       "    </tr>\n",
       "    <tr>\n",
       "      <th>1</th>\n",
       "      <td>1.0853</td>\n",
       "      <td>6.1</td>\n",
       "      <td>22</td>\n",
       "      <td>173.25</td>\n",
       "      <td>72.25</td>\n",
       "      <td>38.5</td>\n",
       "      <td>93.6</td>\n",
       "      <td>83.0</td>\n",
       "      <td>98.7</td>\n",
       "      <td>58.7</td>\n",
       "      <td>37.3</td>\n",
       "      <td>23.4</td>\n",
       "      <td>30.5</td>\n",
       "      <td>28.9</td>\n",
       "      <td>18.2</td>\n",
       "    </tr>\n",
       "    <tr>\n",
       "      <th>2</th>\n",
       "      <td>1.0414</td>\n",
       "      <td>25.3</td>\n",
       "      <td>22</td>\n",
       "      <td>154.00</td>\n",
       "      <td>66.25</td>\n",
       "      <td>34.0</td>\n",
       "      <td>95.8</td>\n",
       "      <td>87.9</td>\n",
       "      <td>99.2</td>\n",
       "      <td>59.6</td>\n",
       "      <td>38.9</td>\n",
       "      <td>24.0</td>\n",
       "      <td>28.8</td>\n",
       "      <td>25.2</td>\n",
       "      <td>16.6</td>\n",
       "    </tr>\n",
       "    <tr>\n",
       "      <th>3</th>\n",
       "      <td>1.0751</td>\n",
       "      <td>10.4</td>\n",
       "      <td>26</td>\n",
       "      <td>184.75</td>\n",
       "      <td>72.25</td>\n",
       "      <td>37.4</td>\n",
       "      <td>101.8</td>\n",
       "      <td>86.4</td>\n",
       "      <td>101.2</td>\n",
       "      <td>60.1</td>\n",
       "      <td>37.3</td>\n",
       "      <td>22.8</td>\n",
       "      <td>32.4</td>\n",
       "      <td>29.4</td>\n",
       "      <td>18.2</td>\n",
       "    </tr>\n",
       "    <tr>\n",
       "      <th>4</th>\n",
       "      <td>1.0340</td>\n",
       "      <td>28.7</td>\n",
       "      <td>24</td>\n",
       "      <td>184.25</td>\n",
       "      <td>71.25</td>\n",
       "      <td>34.4</td>\n",
       "      <td>97.3</td>\n",
       "      <td>100.0</td>\n",
       "      <td>101.9</td>\n",
       "      <td>63.2</td>\n",
       "      <td>42.2</td>\n",
       "      <td>24.0</td>\n",
       "      <td>32.2</td>\n",
       "      <td>27.7</td>\n",
       "      <td>17.7</td>\n",
       "    </tr>\n",
       "  </tbody>\n",
       "</table>\n",
       "</div>"
      ],
      "text/plain": [
       "   Density  BodyFat  Age  Weight  Height  Neck  Chest  Abdomen    Hip  Thigh  \\\n",
       "0   1.0708     12.3   23  154.25   67.75  36.2   93.1     85.2   94.5   59.0   \n",
       "1   1.0853      6.1   22  173.25   72.25  38.5   93.6     83.0   98.7   58.7   \n",
       "2   1.0414     25.3   22  154.00   66.25  34.0   95.8     87.9   99.2   59.6   \n",
       "3   1.0751     10.4   26  184.75   72.25  37.4  101.8     86.4  101.2   60.1   \n",
       "4   1.0340     28.7   24  184.25   71.25  34.4   97.3    100.0  101.9   63.2   \n",
       "\n",
       "   Knee  Ankle  Biceps  Forearm  Wrist  \n",
       "0  37.3   21.9    32.0     27.4   17.1  \n",
       "1  37.3   23.4    30.5     28.9   18.2  \n",
       "2  38.9   24.0    28.8     25.2   16.6  \n",
       "3  37.3   22.8    32.4     29.4   18.2  \n",
       "4  42.2   24.0    32.2     27.7   17.7  "
      ]
     },
     "execution_count": 15,
     "metadata": {},
     "output_type": "execute_result"
    }
   ],
   "source": [
    "df_exercise = pd.read_csv(\"data/bodyfat.csv\")\n",
    "df_exercise.head()"
   ]
  },
  {
   "cell_type": "code",
   "execution_count": 16,
   "metadata": {},
   "outputs": [
    {
     "data": {
      "text/plain": [
       "<AxesSubplot:xlabel='Knee', ylabel='BodyFat'>"
      ]
     },
     "execution_count": 16,
     "metadata": {},
     "output_type": "execute_result"
    },
    {
     "data": {
      "image/png": "[encoded data removed]",
      "text/plain": [
       "<Figure size 432x432 with 1 Axes>"
      ]
     },
     "metadata": {
      "needs_background": "light"
     },
     "output_type": "display_data"
    }
   ],
   "source": [
    "sns.regplot(data=df_exercise, x=\"Knee\", y=\"BodyFat\")"
   ]
  },
  {
   "cell_type": "code",
   "execution_count": null,
   "metadata": {},
   "outputs": [],
   "source": [
    "#We can take a preview\n",
    "x1 = \"StoreSize\"\n",
    "y1 = \"Sales\"\n",
    "d = df[[\"StoreSize\", \"Sales\"]]"
   ]
  },
  {
   "cell_type": "code",
   "execution_count": 29,
   "metadata": {},
   "outputs": [
    {
     "data": {
      "text/html": [
       "<div>\n",
       "<style scoped>\n",
       "    .dataframe tbody tr th:only-of-type {\n",
       "        vertical-align: middle;\n",
       "    }\n",
       "\n",
       "    .dataframe tbody tr th {\n",
       "        vertical-align: top;\n",
       "    }\n",
       "\n",
       "    .dataframe thead th {\n",
       "        text-align: right;\n",
       "    }\n",
       "</style>\n",
       "<table border=\"1\" class=\"dataframe\">\n",
       "  <thead>\n",
       "    <tr style=\"text-align: right;\">\n",
       "      <th></th>\n",
       "      <th>﻿Store</th>\n",
       "      <th>FuelPrice</th>\n",
       "      <th>StoreSize</th>\n",
       "      <th>WeekAvgTemp</th>\n",
       "      <th>Unemployment</th>\n",
       "      <th>Sales</th>\n",
       "      <th>SalesPerSqFt</th>\n",
       "    </tr>\n",
       "  </thead>\n",
       "  <tbody>\n",
       "    <tr>\n",
       "      <th>0</th>\n",
       "      <td>1.0</td>\n",
       "      <td>3.10</td>\n",
       "      <td>151315.0</td>\n",
       "      <td>47.0</td>\n",
       "      <td>7.43</td>\n",
       "      <td>22516.0</td>\n",
       "      <td>0.15</td>\n",
       "    </tr>\n",
       "    <tr>\n",
       "      <th>1</th>\n",
       "      <td>1.0</td>\n",
       "      <td>3.14</td>\n",
       "      <td>151315.0</td>\n",
       "      <td>42.0</td>\n",
       "      <td>7.43</td>\n",
       "      <td>22805.0</td>\n",
       "      <td>0.15</td>\n",
       "    </tr>\n",
       "  </tbody>\n",
       "</table>\n",
       "</div>"
      ],
      "text/plain": [
       "   ﻿Store  FuelPrice  StoreSize  WeekAvgTemp  Unemployment    Sales  \\\n",
       "0     1.0       3.10   151315.0         47.0          7.43  22516.0   \n",
       "1     1.0       3.14   151315.0         42.0          7.43  22805.0   \n",
       "\n",
       "   SalesPerSqFt  \n",
       "0          0.15  \n",
       "1          0.15  "
      ]
     },
     "execution_count": 29,
     "metadata": {},
     "output_type": "execute_result"
    }
   ],
   "source": [
    "df.head(2)"
   ]
  },
  {
   "cell_type": "code",
   "execution_count": 31,
   "metadata": {},
   "outputs": [],
   "source": [
    "x2=\"Knee\"\n",
    "y2=\"BodyFat\"\n",
    "d2 = df_exercise [[\"Knee\", \"BodyFat\"]]\n"
   ]
  },
  {
   "cell_type": "code",
   "execution_count": 32,
   "metadata": {},
   "outputs": [
    {
     "name": "stdout",
     "output_type": "stream",
     "text": [
      "Y intercept: -48.9622333201567\n",
      "Slope: 1.765021676196887\n"
     ]
    }
   ],
   "source": [
    "#Work exercise\n",
    "#Do regression\n",
    "#Do regression\n",
    "inter, slope = thinkstats2.LeastSquares(d2[x2],d2[y2])\n",
    "res = thinkstats2.Residuals(d2[x2], d2[y2], inter, slope)\n",
    "regLine = thinkstats2.FitLine(d2[x2], inter, slope)\n",
    "print(\"Y intercept:\", inter)\n",
    "print(\"Slope:\", slope)"
   ]
  },
  {
   "cell_type": "markdown",
   "metadata": {},
   "source": [
    "## R2 - Coefficient of Determination\n",
    "\n",
    "One other metric that is important in evaluating our model is called R2 or R2 or the Coefficient of Determination. The definition of R2 is \"the percentage of variation in the dependent or predicted variable (y) that can be explained by variation in the independent or explanatory variable (x)\" - or roughly how much of the total picture our model captures. R2 values go up from 0 to 1 (you can get other values, but that's an indication the model is pretty useless. Only 0 to 1 matters in practice), and they are expressable as a percent. The R2 value is also called the \"goodness of fit\". \n",
    "\n",
    "For an example of what R2 means, think about a car stopping via its brakes. The R2 of brakes vs stopping distance might be .8 - or 80% of how long it takes you to stop is due to how hard you press the brake pedal. The other 20% is other stuff - tire grip on the road, tail/head wind, ABS modulation, etc... For the walmart one we are doing here, the R2 will tell us what percentage of sales are attributed to store size, and what percentage is due to other stuff - location, prices, products, staff, coupons, etc...\n",
    "\n",
    "We can calculate this pretty simply - it is the ratio of the variance of the residuals to the varaiance of the y values in total. \n",
    "\n",
    "![R Squared](images/r_squared_form.jpg \"R Squared\")\n",
    "\n",
    "We can think of it intuitively:\n",
    "<ul>\n",
    "<li> The data varries. Literally, the data points just have different values. \n",
    "<li> Our model captures <i>some</i> of that variation - specifically the part that <i>isn't</i> the residual. \n",
    "    <ul>\n",
    "    <li> Recall - the residual is how <b>wrong</b> our model is, the \"other part\" is how <b>right</b> our model is, or the sum of squares of the regression. \n",
    "    </ul>\n",
    "<li> The greater a percentage of the total variation is \"in\" our model, the better it fits - or the closer the pattern of the model's predictions are tailored to the real data. \n",
    "<li> The lower a percentage of the total variation is outside of our model, in our residuals, the less closely the model follows the data. \n",
    "<li><b> This percentage is R Sqaured - the coefficient of determination.</b>\n",
    "</ul>\n",
    "\n",
    "![R Squared](images/r_squared.jpg \"R Squared\")\n",
    "\n",
    "### What Does R2 Tell Us?\n",
    "\n",
    "R sqaured isn't directly a measure of error, though it is derived from the errors. R2 is a measure of how well suited the model we are using is for the data we are using it with (later in the machine learning stuff we'll look at visualizations of models that illustrate this a bit more clearly, we need some other stuff to get to that point though). High R2 tell us we are probably using a suitable model, low R2 tells us that we may want to make changess. It is also always on the same scale, so we can compare between models pretty easily. \n",
    "\n",
    "R2 doesn't tell us our accuracy like the RMSE does, as we don't get a direct measure of the error in predictions. Since they are both based on the error though, they will almost always move in concert with each other - as the error amounts drop, the R2 rises, and vice versa. \n",
    "\n",
    "<b>Note:</b> R squared is on a 0 to 1 scale. Sometimes calculations spit out an R2 that is negative. If this happens we don't really care about the value, it is an indication that the model is a terrible fit for the data, worse than if you were to just use a constant horizontal line as a model. E.g.:\n",
    "\n",
    "![Negative R Squared](images/neg_r_squared.png \"Negative R Squared\")"
   ]
  },
  {
   "cell_type": "code",
   "execution_count": 18,
   "metadata": {},
   "outputs": [],
   "source": [
    "def rSquared(yvals, residuals):\n",
    "    return (1-(thinkstats2.Var(residuals)/thinkstats2.Var(yvals)))"
   ]
  },
  {
   "cell_type": "markdown",
   "metadata": {},
   "source": [
    "It can also be expressed like this, this is the definition you get from Wikipedia. 1 - SumSquaresResiduals/TotalSumSquares"
   ]
  },
  {
   "cell_type": "code",
   "execution_count": 19,
   "metadata": {},
   "outputs": [],
   "source": [
    "def rSquared_2(yvals, residuals):\n",
    "    RSS = 0\n",
    "    TSS = 0\n",
    "    ybar = yvals.mean()\n",
    "    for i in range(len(residuals)):\n",
    "        RSS += (residuals[i]**2)\n",
    "        TSS += ((yvals[i]-ybar)**2)\n",
    "    r2 = 1-(RSS/TSS)\n",
    "    return r2"
   ]
  },
  {
   "cell_type": "code",
   "execution_count": 20,
   "metadata": {},
   "outputs": [
    {
     "data": {
      "text/plain": [
       "0.5879595688548191"
      ]
     },
     "execution_count": 20,
     "metadata": {},
     "output_type": "execute_result"
    }
   ],
   "source": [
    "rSquared_2(d[y1], res)"
   ]
  },
  {
   "cell_type": "markdown",
   "metadata": {},
   "source": [
    "<b>As a fun note, this is equal to the Pearson correlation squared. </b>"
   ]
  },
  {
   "cell_type": "code",
   "execution_count": 21,
   "metadata": {},
   "outputs": [
    {
     "data": {
      "text/plain": [
       "0.5879595688548203"
      ]
     },
     "execution_count": 21,
     "metadata": {},
     "output_type": "execute_result"
    }
   ],
   "source": [
    "1-thinkstats2.Corr(d[y1], res)**2"
   ]
  },
  {
   "cell_type": "markdown",
   "metadata": {},
   "source": [
    "Hopefully those two match what the statsmodels has above!!!!"
   ]
  },
  {
   "cell_type": "markdown",
   "metadata": {},
   "source": [
    "#### Using Errors\n",
    "\n",
    "These two values - RMSE and R2 - are the two primary (mostly - more on this later, along with R2 limitations) metrics that we can use to evaluate a model's accuracy and its predictive value. If we have a high R2 and a (comparatively) low RMSE, we are probably making reliable predictions. \n",
    "\n",
    "<b>Big Note:</b> our real life error calculation process will be slightly different from this - notably rather than calculating the error amounts from the model itself, we will calculate it based on some other, test, data. The errors themselves are the same, but we will split our data to make the error caclulations more robust. We'll look at this next time. "
   ]
  },
  {
   "cell_type": "markdown",
   "metadata": {},
   "source": [
    "## Exercise\n",
    "\n",
    "Calculate R2 for the bodyfat/knee example."
   ]
  },
  {
   "cell_type": "code",
   "execution_count": 22,
   "metadata": {},
   "outputs": [],
   "source": [
    "#R2 for the knee/bodfat\n"
   ]
  },
  {
   "cell_type": "markdown",
   "metadata": {},
   "source": [
    "## Exercise - End to End Regression\n",
    "\n",
    "Now, load some other data and give it a try... \n",
    "\n",
    "Do a linear regression and calculate R2 and the RMSE for this data. Use head size to predict brain weight. It is pretty easy to measure the size of someone's dome, but pretty hard to weigh their brain. We want to see how accurately we can predict one from the other. Does the model look like we can trust it to make good predictions?  "
   ]
  },
  {
   "cell_type": "code",
   "execution_count": 23,
   "metadata": {},
   "outputs": [
    {
     "data": {
      "text/html": [
       "<div>\n",
       "<style scoped>\n",
       "    .dataframe tbody tr th:only-of-type {\n",
       "        vertical-align: middle;\n",
       "    }\n",
       "\n",
       "    .dataframe tbody tr th {\n",
       "        vertical-align: top;\n",
       "    }\n",
       "\n",
       "    .dataframe thead th {\n",
       "        text-align: right;\n",
       "    }\n",
       "</style>\n",
       "<table border=\"1\" class=\"dataframe\">\n",
       "  <thead>\n",
       "    <tr style=\"text-align: right;\">\n",
       "      <th></th>\n",
       "      <th>Gender</th>\n",
       "      <th>Age Range</th>\n",
       "      <th>Head Size(cm^3)</th>\n",
       "      <th>Brain Weight(grams)</th>\n",
       "    </tr>\n",
       "  </thead>\n",
       "  <tbody>\n",
       "    <tr>\n",
       "      <th>0</th>\n",
       "      <td>1</td>\n",
       "      <td>1</td>\n",
       "      <td>4512</td>\n",
       "      <td>1530</td>\n",
       "    </tr>\n",
       "    <tr>\n",
       "      <th>1</th>\n",
       "      <td>1</td>\n",
       "      <td>1</td>\n",
       "      <td>3738</td>\n",
       "      <td>1297</td>\n",
       "    </tr>\n",
       "    <tr>\n",
       "      <th>2</th>\n",
       "      <td>1</td>\n",
       "      <td>1</td>\n",
       "      <td>4261</td>\n",
       "      <td>1335</td>\n",
       "    </tr>\n",
       "    <tr>\n",
       "      <th>3</th>\n",
       "      <td>1</td>\n",
       "      <td>1</td>\n",
       "      <td>3777</td>\n",
       "      <td>1282</td>\n",
       "    </tr>\n",
       "    <tr>\n",
       "      <th>4</th>\n",
       "      <td>1</td>\n",
       "      <td>1</td>\n",
       "      <td>4177</td>\n",
       "      <td>1590</td>\n",
       "    </tr>\n",
       "  </tbody>\n",
       "</table>\n",
       "</div>"
      ],
      "text/plain": [
       "   Gender  Age Range  Head Size(cm^3)  Brain Weight(grams)\n",
       "0       1          1             4512                 1530\n",
       "1       1          1             3738                 1297\n",
       "2       1          1             4261                 1335\n",
       "3       1          1             3777                 1282\n",
       "4       1          1             4177                 1590"
      ]
     },
     "execution_count": 23,
     "metadata": {},
     "output_type": "execute_result"
    }
   ],
   "source": [
    "df2 = pd.read_csv(\"data/brain.csv\")\n",
    "df2.head()"
   ]
  },
  {
   "cell_type": "code",
   "execution_count": null,
   "metadata": {},
   "outputs": [],
   "source": []
  },
  {
   "cell_type": "markdown",
   "metadata": {},
   "source": [
    "<b>You are now a machine learning professional. </b>"
   ]
  }
 ],
 "metadata": {
  "kernelspec": {
   "display_name": "Python 3.9.12 ('base')",
   "language": "python",
   "name": "python3"
  },
  "language_info": {
   "codemirror_mode": {
    "name": "ipython",
    "version": 3
   },
   "file_extension": ".py",
   "mimetype": "text/x-python",
   "name": "python",
   "nbconvert_exporter": "python",
   "pygments_lexer": "ipython3",
   "version": "3.9.12"
  },
  "orig_nbformat": 4,
  "vscode": {
   "interpreter": {
    "hash": "ac84c186c3977d3f3331649749bf53276a5c5befb029be0bc359ac378ed9e33b"
   }
  }
 },
 "nbformat": 4,
 "nbformat_minor": 2
}
